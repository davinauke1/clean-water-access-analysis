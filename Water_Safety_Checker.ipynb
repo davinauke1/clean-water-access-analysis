{
  "nbformat": 4,
  "nbformat_minor": 0,
  "metadata": {
    "colab": {
      "provenance": [],
      "authorship_tag": "ABX9TyORIJtt424OKY5EhnVFxwd3",
      "include_colab_link": true
    },
    "kernelspec": {
      "name": "python3",
      "display_name": "Python 3"
    },
    "language_info": {
      "name": "python"
    }
  },
  "cells": [
    {
      "cell_type": "markdown",
      "metadata": {
        "id": "view-in-github",
        "colab_type": "text"
      },
      "source": [
        "<a href=\"https://colab.research.google.com/github/davinauke1/clean-water-access-analysis/blob/main/Water_Safety_Checker.ipynb\" target=\"_parent\"><img src=\"https://colab.research.google.com/assets/colab-badge.svg\" alt=\"Open In Colab\"/></a>"
      ]
    },
    {
      "cell_type": "code",
      "execution_count": 1,
      "metadata": {
        "colab": {
          "base_uri": "https://localhost:8080/"
        },
        "id": "7AP1JCYyXOgw",
        "outputId": "85e92646-8cca-4a1d-e153-0e7799583323"
      },
      "outputs": [
        {
          "output_type": "stream",
          "name": "stdout",
          "text": [
            "Sample001 → Safe\n",
            "Sample002 → Unsafe: pH level\n",
            "Sample003 → Unsafe: Ammonia\n",
            "Sample004 → Unsafe: E. coli\n"
          ]
        }
      ],
      "source": [
        "# Sample water data\n",
        "samples = [\n",
        "    {\"id\": \"Sample001\", \"pH\": 7.2, \"ammonia\": 0.3, \"e_coli\": False},\n",
        "    {\"id\": \"Sample002\", \"pH\": 6.0, \"ammonia\": 0.2, \"e_coli\": False},\n",
        "    {\"id\": \"Sample003\", \"pH\": 7.5, \"ammonia\": 0.6, \"e_coli\": False},\n",
        "    {\"id\": \"Sample004\", \"pH\": 7.0, \"ammonia\": 0.4, \"e_coli\": True},\n",
        "]\n",
        "\n",
        "# Function to assess water safety\n",
        "def assess_water(sample):\n",
        "    if sample[\"pH\"] < 6.5 or sample[\"pH\"] > 8.5:\n",
        "        return \"Unsafe: pH level\"\n",
        "    elif sample[\"ammonia\"] > 0.5:\n",
        "        return \"Unsafe: Ammonia\"\n",
        "    elif sample[\"e_coli\"]:\n",
        "        return \"Unsafe: E. coli\"\n",
        "    else:\n",
        "        return \"Safe\"\n",
        "\n",
        "# Run assessment\n",
        "for sample in samples:\n",
        "    status = assess_water(sample)\n",
        "    print(f\"{sample['id']} → {status}\")\n"
      ]
    }
  ]
}